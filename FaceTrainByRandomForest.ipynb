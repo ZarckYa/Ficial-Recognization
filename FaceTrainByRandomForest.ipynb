{
 "cells": [
  {
   "cell_type": "code",
   "execution_count": 1,
   "id": "8ef92afd",
   "metadata": {},
   "outputs": [],
   "source": [
    "#Import useful libraries\n",
    "import json\n",
    "import os\n",
    "import cv2\n",
    "import numpy as np\n",
    "import tensorflow as tf\n",
    "import matplotlib.pyplot as plt\n",
    "import joblib\n",
    "from sklearn.datasets import fetch_lfw_people\n",
    "from sklearn.model_selection import train_test_split\n",
    "from sklearn.decomposition import PCA\n",
    "from sklearn.ensemble import RandomForestClassifier\n",
    "from sklearn.metrics import classification_report,confusion_matrix\n",
    "from sklearn.model_selection import GridSearchCV\n",
    "from tensorflow.keras import utils\n",
    "from LoadFaceData import read_path, resize_image, IMAGE_SIZE, load_dataset"
   ]
  },
  {
   "cell_type": "code",
   "execution_count": 2,
   "id": "49dc7328",
   "metadata": {},
   "outputs": [
    {
     "name": "stdout",
     "output_type": "stream",
     "text": [
      "(2258, 4096)\n",
      "(2258,)\n"
     ]
    }
   ],
   "source": [
    "#Define some useful variables\n",
    "Ourfaceimage = []\n",
    "Ourfacelabel = []\n",
    "faceimage = []\n",
    "frame_gray = []\n",
    "\n",
    "\n",
    "#Read the face pictures from our path, form of list\n",
    "faceimages, facelabel = read_path(\"D:\\Limerick course year 4\\AI & FYP\\Conda Jupyter notebook\\My AI Folder\\FYP\\Facial Recognization By Random-Forest\\Facial data\")\n",
    "\n",
    "#transfer the labels list in to data\n",
    "facelabel = np.array(facelabel)\n",
    "\n",
    "#Get the number of face, which is depended by number the pictures files\n",
    "labels1 = list(set(facelabel))\n",
    "face_num = len(labels1)\n",
    "# Store the test name into a dic called constrast_table.\n",
    "num = [i for i in range(face_num)]\n",
    "contrast_table = dict(zip(num, labels1))\n",
    "with open('contrast_table', 'w') as f:\n",
    "    f.write(json.dumps(contrast_table))\n",
    "\n",
    "\n",
    "#Go through all images, transfer ot into grey picture.\n",
    "for face_image in faceimages:\n",
    "    frame_gray.append(cv2.cvtColor(face_image, cv2.COLOR_BGR2GRAY))\n",
    "\n",
    "#Transfer all picture into array, and reshape the array into two Dim.ayyay content: [number of pictures, IMAGE_SIZE*IMAGE_SIZE] \n",
    "frame_gray = np.array(frame_gray)\n",
    "face_image = frame_gray.reshape(-1, IMAGE_SIZE*IMAGE_SIZE)\n",
    "\n",
    "#USing the split to seperate the raw data into train image, train labels, test images, testl labels.\n",
    "xtrain, xtest, ytrain, ytest = train_test_split(face_image, facelabel,\n",
    "                                                random_state=2)\n",
    "\n",
    "#Pirnt out the shape of train set(images and labels) shape \n",
    "print(xtrain.shape)\n",
    "print(ytrain.shape)"
   ]
  },
  {
   "cell_type": "code",
   "execution_count": 3,
   "id": "f0e90440",
   "metadata": {},
   "outputs": [
    {
     "name": "stdout",
     "output_type": "stream",
     "text": [
      "(753, 100)\n",
      "(753, 4096)\n"
     ]
    }
   ],
   "source": [
    "# DO the PCA precess in this pictures, and keep 100 Dims\n",
    "n_components =100\n",
    "\n",
    "# Train the PCA\n",
    "pca = PCA(n_components=n_components, svd_solver='randomized',\n",
    "          whiten=True, random_state=42).fit(xtrain)\n",
    "\n",
    "# Decease the dimention in these train sets.\n",
    "xtrain_pca = pca.transform(xtrain)\n",
    "xtest_pca = pca.transform(xtest)\n",
    "\n",
    "print(xtest_pca.shape)\n",
    "print(xtest.shape)"
   ]
  },
  {
   "cell_type": "code",
   "execution_count": 4,
   "id": "5e60ddd8",
   "metadata": {},
   "outputs": [
    {
     "name": "stdout",
     "output_type": "stream",
     "text": [
      "              precision    recall  f1-score   support\n",
      "\n",
      "     Yuan Li       1.00      1.00      1.00       241\n",
      " Jiahao Wang       1.00      1.00      1.00       363\n",
      " Jufeng Yang       0.99      1.00      1.00       149\n",
      "\n",
      "    accuracy                           1.00       753\n",
      "   macro avg       1.00      1.00      1.00       753\n",
      "weighted avg       1.00      1.00      1.00       753\n",
      "\n"
     ]
    }
   ],
   "source": [
    "#Training a Model\n",
    "\n",
    "#Define some useful variables.\n",
    "names = []\n",
    "n_estimators = 200\n",
    "\n",
    "#Open the contrast_tabels, which is a dictionary, like: 0: \"Jufeng Yang\", 1: \"Jiahao Wang\".\n",
    "with open('contrast_table', 'r') as f:\n",
    "            contrast_table = json.loads(f.read())\n",
    "        \n",
    "#Instantial a SVM.Arguments is \"RBF\", C = 0.05 \n",
    "rfc = RandomForestClassifier(n_estimators,criterion = 'entropy')\n",
    "\n",
    "# Train a SVM\n",
    "rfc.fit(xtrain_pca, ytrain)\n",
    "\n",
    "#Save a  model, used to predict new pictures\n",
    "joblib.dump(rfc, \"my_RandomForest_model.m\")\n",
    "\n",
    "#Predict based on the test dataset splits.\n",
    "yfit = rfc.predict(xtest_pca)\n",
    "for i in range(face_num):\n",
    "    names.append(contrast_table[str(i)])\n",
    "names = np.array(names)\n",
    "\n",
    "#Pirnt a summary report.\n",
    "print(classification_report(ytest, yfit,\n",
    "                            target_names=names))"
   ]
  },
  {
   "cell_type": "code",
   "execution_count": 5,
   "id": "e85969dc",
   "metadata": {},
   "outputs": [
    {
     "name": "stdout",
     "output_type": "stream",
     "text": [
      "Accuracy: 0.5205522434891747\n"
     ]
    }
   ],
   "source": [
    "# PCA processing of face data, retaining 100-dimensional features\n",
    "n_components =100\n",
    "Pre_names = []\n",
    "counter = 0\n",
    "right_counter = 0\n",
    "test_frame_gray = []\n",
    "Predictresult = []\n",
    "\n",
    "#Read the face pictures from our path\n",
    "Testfaceimages, _= read_path(\"D:\\Limerick course year 4\\AI & FYP\\Conda Jupyter notebook\\My AI Folder\\FYP\\Facial Recognization By Random-Forest\\Test face\")\n",
    "\n",
    "for face_image in Testfaceimages:\n",
    "    test_frame_gray.append(cv2.cvtColor(face_image, cv2.COLOR_BGR2GRAY))\n",
    "test_frame_gray = np.array(test_frame_gray)\n",
    "Testfaceimage = test_frame_gray.reshape(-1, IMAGE_SIZE*IMAGE_SIZE)\n",
    "\n",
    "#print(Testfaceimage.shape)\n",
    "\n",
    "with open('contrast_table', 'r') as f:\n",
    "            contrast_table = json.loads(f.read())\n",
    "\n",
    "# Training for PCA\n",
    "pca = PCA(n_components=n_components, svd_solver='randomized',\n",
    "          whiten=True, random_state=42).fit(Testfaceimage)\n",
    "\n",
    "Test_face = pca.transform(Testfaceimage)\n",
    "\n",
    "load_RandomForest = joblib.load(\"my_RandomForest_model.m\")\n",
    "Predictresult = load_RandomForest.predict(Test_face)\n",
    "#print(Predictresult)\n",
    "for i in Predictresult:\n",
    "    counter += 1\n",
    "    if i == \"Jufeng Yang\":\n",
    "        right_counter += 1\n",
    "print(\"Accuracy:\", right_counter/counter)        "
   ]
  },
  {
   "cell_type": "code",
   "execution_count": null,
   "id": "42dfa8f5",
   "metadata": {},
   "outputs": [],
   "source": []
  }
 ],
 "metadata": {
  "kernelspec": {
   "display_name": "Tensorflow2-CPU",
   "language": "python",
   "name": "tensorflow2-cpu"
  },
  "language_info": {
   "codemirror_mode": {
    "name": "ipython",
    "version": 3
   },
   "file_extension": ".py",
   "mimetype": "text/x-python",
   "name": "python",
   "nbconvert_exporter": "python",
   "pygments_lexer": "ipython3",
   "version": "3.7.11"
  }
 },
 "nbformat": 4,
 "nbformat_minor": 5
}
