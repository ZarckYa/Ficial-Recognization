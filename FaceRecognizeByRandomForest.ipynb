{
 "cells": [
  {
   "cell_type": "code",
   "execution_count": 1,
   "id": "8be6c2b2",
   "metadata": {},
   "outputs": [],
   "source": [
    "#Import useful libraries\n",
    "import json\n",
    "import os\n",
    "import cv2\n",
    "import numpy as np\n",
    "import tensorflow as tf\n",
    "import matplotlib.pyplot as plt\n",
    "import joblib\n",
    "from sklearn.model_selection import train_test_split\n",
    "from sklearn.decomposition import PCA\n",
    "from sklearn.ensemble import RandomForestClassifier\n",
    "from sklearn.metrics import classification_report,confusion_matrix\n",
    "from sklearn.model_selection import GridSearchCV\n",
    "from tensorflow.keras import utils\n",
    "from LoadFaceData import read_path, resize_image, IMAGE_SIZE, load_dataset"
   ]
  },
  {
   "cell_type": "code",
   "execution_count": 2,
   "id": "e8aaf74a",
   "metadata": {},
   "outputs": [
    {
     "name": "stdout",
     "output_type": "stream",
     "text": [
      "['Jufeng Yang' 'Jufeng Yang' 'Jufeng Yang' 'Jufeng Yang' 'Jufeng Yang'\n",
      " 'Jufeng Yang' 'Jufeng Yang' 'Jufeng Yang' 'Jufeng Yang' 'Jufeng Yang'\n",
      " 'Jufeng Yang' 'Jufeng Yang' 'Jufeng Yang' 'Jufeng Yang' 'Jufeng Yang'\n",
      " 'Jufeng Yang' 'Jufeng Yang' 'Jufeng Yang' 'Jufeng Yang' 'Jufeng Yang'\n",
      " 'Jufeng Yang' 'Jufeng Yang' 'Jufeng Yang' 'Jufeng Yang' 'Jufeng Yang'\n",
      " 'Jufeng Yang' 'Jufeng Yang' 'Jufeng Yang' 'Jufeng Yang' 'Jufeng Yang'\n",
      " 'Jufeng Yang' 'Jufeng Yang' 'Jufeng Yang' 'Jufeng Yang' 'Yuan Li'\n",
      " 'Yuan Li' 'Yuan Li' 'Yuan Li' 'Jiahao Wang' 'Yuan Li' 'Jiahao Wang'\n",
      " 'Jiahao Wang' 'Jiahao Wang' 'Jiahao Wang' 'Jiahao Wang' 'Jiahao Wang'\n",
      " 'Jiahao Wang' 'Jiahao Wang' 'Jiahao Wang' 'Jiahao Wang' 'Jiahao Wang'\n",
      " 'Jiahao Wang' 'Jiahao Wang' 'Jiahao Wang' 'Jiahao Wang' 'Jiahao Wang'\n",
      " 'Jiahao Wang' 'Jiahao Wang' 'Jiahao Wang' 'Jiahao Wang' 'Jiahao Wang'\n",
      " 'Jiahao Wang' 'Jiahao Wang' 'Jiahao Wang' 'Jiahao Wang' 'Yuan Li'\n",
      " 'Jiahao Wang' 'Jiahao Wang' 'Jiahao Wang' 'Jiahao Wang' 'Jiahao Wang'\n",
      " 'Jiahao Wang' 'Jiahao Wang' 'Jiahao Wang' 'Jiahao Wang' 'Yuan Li'\n",
      " 'Jiahao Wang' 'Jiahao Wang' 'Jiahao Wang' 'Jiahao Wang' 'Jiahao Wang'\n",
      " 'Jiahao Wang' 'Jiahao Wang' 'Jiahao Wang' 'Jiahao Wang' 'Jiahao Wang'\n",
      " 'Jiahao Wang' 'Yuan Li' 'Yuan Li' 'Yuan Li' 'Yuan Li' 'Yuan Li' 'Yuan Li'\n",
      " 'Yuan Li' 'Yuan Li' 'Jufeng Yang' 'Yuan Li' 'Yuan Li' 'Jufeng Yang'\n",
      " 'Yuan Li' 'Yuan Li' 'Yuan Li' 'Yuan Li' 'Yuan Li' 'Yuan Li' 'Yuan Li'\n",
      " 'Jufeng Yang' 'Jufeng Yang' 'Jufeng Yang' 'Jufeng Yang' 'Jufeng Yang'\n",
      " 'Jufeng Yang' 'Yuan Li' 'Yuan Li' 'Yuan Li' 'Yuan Li' 'Yuan Li' 'Yuan Li'\n",
      " 'Yuan Li' 'Yuan Li' 'Yuan Li' 'Jufeng Yang' 'Jufeng Yang' 'Jufeng Yang'\n",
      " 'Jufeng Yang' 'Jufeng Yang' 'Jufeng Yang' 'Jufeng Yang' 'Jufeng Yang'\n",
      " 'Jufeng Yang' 'Jufeng Yang' 'Jufeng Yang' 'Jufeng Yang' 'Jufeng Yang'\n",
      " 'Yuan Li' 'Jufeng Yang' 'Jufeng Yang' 'Yuan Li' 'Jufeng Yang'\n",
      " 'Jufeng Yang' 'Jufeng Yang' 'Jufeng Yang' 'Jufeng Yang' 'Jufeng Yang'\n",
      " 'Jufeng Yang' 'Jufeng Yang' 'Jufeng Yang' 'Jufeng Yang' 'Jufeng Yang'\n",
      " 'Jufeng Yang' 'Jufeng Yang' 'Jufeng Yang' 'Jufeng Yang' 'Jufeng Yang'\n",
      " 'Jufeng Yang' 'Jufeng Yang' 'Jufeng Yang' 'Yuan Li' 'Yuan Li'\n",
      " 'Jufeng Yang' 'Jufeng Yang' 'Jufeng Yang' 'Jufeng Yang' 'Jufeng Yang'\n",
      " 'Jufeng Yang' 'Jufeng Yang' 'Jufeng Yang' 'Jufeng Yang' 'Jufeng Yang'\n",
      " 'Jufeng Yang' 'Jufeng Yang' 'Jufeng Yang' 'Jufeng Yang' 'Jufeng Yang'\n",
      " 'Jufeng Yang' 'Jufeng Yang']\n",
      "Accuracy: 0.5284090909090909\n"
     ]
    }
   ],
   "source": [
    "# PCA processing of face data, retaining 100-dimensional features\n",
    "n_components =100\n",
    "Pre_names = []\n",
    "counter = 0\n",
    "right_counter = 0\n",
    "test_frame_gray = []\n",
    "Predictresult = []\n",
    "\n",
    "#Read the face pictures from our path\n",
    "Testfaceimages, _= read_path(\"D:\\Limerick course year 4\\AI & FYP\\Conda Jupyter notebook\\My AI Folder\\FYP\\Facial Recognization By Random-Forest\\Test face\")\n",
    "\n",
    "for face_image in Testfaceimages:\n",
    "    test_frame_gray.append(cv2.cvtColor(face_image, cv2.COLOR_BGR2GRAY))\n",
    "test_frame_gray = np.array(test_frame_gray)\n",
    "Testfaceimage = test_frame_gray.reshape(-1, IMAGE_SIZE*IMAGE_SIZE)\n",
    "\n",
    "#print(Testfaceimage.shape)\n",
    "\n",
    "with open('contrast_table', 'r') as f:\n",
    "            contrast_table = json.loads(f.read())\n",
    "\n",
    "# Training for PCA\n",
    "pca = PCA(n_components=n_components, svd_solver='randomized',\n",
    "          whiten=True, random_state=42).fit(Testfaceimage)\n",
    "\n",
    "Test_face = pca.transform(Testfaceimage)\n",
    "\n",
    "load_RandomForest = joblib.load(\"my_RandomForest_model.m\")\n",
    "Predictresult = load_RandomForest.predict(Test_face)\n",
    "print(Predictresult)\n",
    "\n",
    "for i in Predictresult:\n",
    "    counter += 1\n",
    "    if i == \"Jufeng Yang\":\n",
    "        right_counter += 1\n",
    "print(\"Accuracy:\", right_counter/counter)  "
   ]
  },
  {
   "cell_type": "code",
   "execution_count": null,
   "id": "1f4c8c16",
   "metadata": {},
   "outputs": [],
   "source": []
  }
 ],
 "metadata": {
  "kernelspec": {
   "display_name": "Tensorflow2-CPU",
   "language": "python",
   "name": "tensorflow2-cpu"
  },
  "language_info": {
   "codemirror_mode": {
    "name": "ipython",
    "version": 3
   },
   "file_extension": ".py",
   "mimetype": "text/x-python",
   "name": "python",
   "nbconvert_exporter": "python",
   "pygments_lexer": "ipython3",
   "version": "3.7.11"
  }
 },
 "nbformat": 4,
 "nbformat_minor": 5
}
