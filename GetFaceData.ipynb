{
 "cells": [
  {
   "cell_type": "code",
   "execution_count": 3,
   "id": "87b93518",
   "metadata": {},
   "outputs": [],
   "source": [
    "import sys\n",
    "import cv2"
   ]
  },
  {
   "cell_type": "code",
   "execution_count": 6,
   "id": "b1672ade",
   "metadata": {},
   "outputs": [],
   "source": [
    "def CatchPICFromVideo(path_name, window_name=\"GET_FACE\", camera_idx=0, catch_pic_num=1000):\n",
    "    cv2.namedWindow(window_name)\n",
    "\n",
    "    # 视频来源，可以来自一段已存好的视频，也可以直接来自USB摄像头\n",
    "    cap = cv2.VideoCapture(camera_idx)\n",
    "\n",
    "    # 告诉OpenCV使用人脸识别分类器\n",
    "    classfier = cv2.CascadeClassifier(cv2.data.haarcascades + \"haarcascade_frontalface_default.xml\")\n",
    "\n",
    "    # 识别出人脸后要画的边框的颜色，RGB格式\n",
    "    color = (0, 255, 0)\n",
    "\n",
    "    num = 0\n",
    "    while cap.isOpened():\n",
    "        ok, frame = cap.read()  # 读取一帧数据\n",
    "        #print(type(frame))\n",
    "        if not ok:\n",
    "            break\n",
    "        \n",
    "        grey = cv2.cvtColor(frame, cv2.COLOR_BGR2GRAY)  # 将当前桢图像转换成灰度图像\n",
    "\n",
    "        # 人脸检测，1.2和2分别为图片缩放比例和需要检测的有效点数\n",
    "        faceRects = classfier.detectMultiScale(grey, scaleFactor=1.2, minNeighbors=3, minSize=(32, 32))\n",
    "        if len(faceRects) > 0:  # 大于0则检测到人脸\n",
    "            for faceRect in faceRects:  # 单独框出每一张人脸\n",
    "                x, y, w, h = faceRect\n",
    "\n",
    "                # 将当前帧保存为图片\n",
    "                img_name = '%s/%d.jpg ' % (path_name, num)\n",
    "                image = frame[y - 10: y + h + 10, x - 10: x + w + 10]\n",
    "                cv2.imwrite(img_name, image)\n",
    "\n",
    "                num += 1\n",
    "                if num > (catch_pic_num):  # 如果超过指定最大保存数量退出循环\n",
    "                    break\n",
    "\n",
    "                # 画出矩形框\n",
    "                cv2.rectangle(frame, (x - 10, y - 10), (x + w + 10, y + h + 10), color, 2)\n",
    "\n",
    "                # 显示当前捕捉到了多少人脸图片了，这样站在那里被拍摄时心里有个数，不用两眼一抹黑傻等着\n",
    "                font = cv2.FONT_HERSHEY_SIMPLEX\n",
    "                cv2.putText(frame, 'num:%d' % (num), (x + 30, y + 30), font, 1, (255, 0, 255), 4)\n",
    "\n",
    "                # 超过指定最大保存数量结束程序\n",
    "        if num > (catch_pic_num): break\n",
    "\n",
    "        # 显示图像\n",
    "        cv2.imshow(window_name, frame)\n",
    "        c = cv2.waitKey(10)\n",
    "        if c & 0xFF == ord('q'):\n",
    "            break\n",
    "\n",
    "            # 释放摄像头并销毁所有窗口\n",
    "    cap.release()\n",
    "    cv2.destroyAllWindows()\n",
    "\n",
    "\n",
    "if __name__ == '__main__':\n",
    "    CatchPICFromVideo('D:\\Limerick course year 4\\AI & FYP\\Conda Jupyter notebook\\My AI Folder\\FYP\\Facial Recognization - 1st edition\\Facial data\\Yuan Li')\n"
   ]
  },
  {
   "cell_type": "code",
   "execution_count": null,
   "id": "9b184353",
   "metadata": {},
   "outputs": [],
   "source": []
  }
 ],
 "metadata": {
  "kernelspec": {
   "display_name": "Tensorflow2-CPU",
   "language": "python",
   "name": "tensorflow2-cpu"
  },
  "language_info": {
   "codemirror_mode": {
    "name": "ipython",
    "version": 3
   },
   "file_extension": ".py",
   "mimetype": "text/x-python",
   "name": "python",
   "nbconvert_exporter": "python",
   "pygments_lexer": "ipython3",
   "version": "3.6.13"
  }
 },
 "nbformat": 4,
 "nbformat_minor": 5
}
